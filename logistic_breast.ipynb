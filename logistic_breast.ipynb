{
 "cells": [
  {
   "cell_type": "code",
   "execution_count": 6,
   "metadata": {},
   "outputs": [
    {
     "name": "stdout",
     "output_type": "stream",
     "text": [
      "Training Confusion Matrix:\n",
      "[[165   8]\n",
      " [  8 217]]\n",
      "Training Sensitivity: 0.9644444444444444\n",
      "Training Specificity: 0.953757225433526\n",
      "\n",
      "Testing Confusion Matrix:\n",
      "[[ 37   2]\n",
      " [  5 127]]\n",
      "Testing Sensitivity: 0.9621212121212122\n",
      "Testing Specificity: 0.9487179487179487\n",
      "\n",
      "Training Accuracy: 0.9597989949748744\n",
      "Testing Accuracy: 0.9590643274853801\n"
     ]
    },
    {
     "data": {
      "text/plain": [
       "Text(0.5, 1.0, 'Cost vs. Iteration')"
      ]
     },
     "execution_count": 6,
     "metadata": {},
     "output_type": "execute_result"
    },
    {
     "data": {
      "image/png": "[encoded data removed]",
      "text/plain": [
       "<Figure size 640x480 with 1 Axes>"
      ]
     },
     "metadata": {},
     "output_type": "display_data"
    }
   ],
   "source": [
    "import numpy as np\n",
    "import pandas as pd\n",
    "import matplotlib.pyplot as plt\n",
    "\n",
    "# Step 1: Load the breast cancer dataset\n",
    "from sklearn.datasets import load_breast_cancer\n",
    "data = load_breast_cancer()\n",
    "X = data.data\n",
    "y = data.target\n",
    "\n",
    "# Step 2: Preprocess the data\n",
    "# Normalize the features\n",
    "X = (X - np.mean(X, axis=0)) / np.std(X, axis=0)\n",
    "\n",
    "# Step 3: Split the dataset into training and testing sets\n",
    "split_ratio = 0.7\n",
    "split_index = int(split_ratio * len(X))\n",
    "X_train, X_test = X[:split_index], X[split_index:]\n",
    "y_train, y_test = y[:split_index], y[split_index:]\n",
    "\n",
    "# Step 4: Define logistic regression model and gradient descent algorithm\n",
    "def sigmoid(z):\n",
    "    return 1 / (1 + np.exp(-z))\n",
    "\n",
    "def predict(X, theta):\n",
    "    return sigmoid(np.dot(X, theta))\n",
    "\n",
    "def compute_cost(X, y, theta):\n",
    "    m = len(y)\n",
    "    h = predict(X, theta)\n",
    "    cost = -(1 / m) * np.sum(y * np.log(h) + (1 - y) * np.log(1 - h))\n",
    "    return cost\n",
    "\n",
    "def gradient_descent(X, y, theta, alpha, iterations):\n",
    "    m = len(y)\n",
    "    cost_history = []\n",
    "\n",
    "    for _ in range(iterations):\n",
    "        h = predict(X, theta)\n",
    "        gradient = np.dot(X.T, (h - y)) / m\n",
    "        theta -= alpha * gradient\n",
    "        cost = compute_cost(X, y, theta)\n",
    "        cost_history.append(cost)\n",
    "\n",
    "    return theta, cost_history\n",
    "\n",
    "# Step 5: Train the logistic regression model\n",
    "# Add bias term to features\n",
    "X_train_biased = np.c_[np.ones((len(X_train), 1)), X_train]\n",
    "X_test_biased = np.c_[np.ones((len(X_test), 1)), X_test]\n",
    "\n",
    "theta = np.zeros(X_train_biased.shape[1])\n",
    "alpha = 0.01\n",
    "iterations = 100\n",
    "theta_trained, cost_history = gradient_descent(X_train_biased, y_train, theta, alpha, iterations)\n",
    "\n",
    "# Step 6: Make predictions\n",
    "y_train_pred = (predict(X_train_biased, theta_trained) >= 0.5).astype(int)\n",
    "y_test_pred = (predict(X_test_biased, theta_trained) >= 0.5).astype(int)\n",
    "\n",
    "# Step 7: Calculate metrics\n",
    "def confusion_matrix(y_true, y_pred):\n",
    "    TP = np.sum((y_true == 1) & (y_pred == 1))\n",
    "    TN = np.sum((y_true == 0) & (y_pred == 0))\n",
    "    FP = np.sum((y_true == 0) & (y_pred == 1))\n",
    "    FN = np.sum((y_true == 1) & (y_pred == 0))\n",
    "    return TP, TN, FP, FN\n",
    "\n",
    "def sensitivity_specificity(TP, TN, FP, FN):\n",
    "    sensitivity = TP / (TP + FN)\n",
    "    specificity = TN / (TN + FP)\n",
    "    return sensitivity, specificity\n",
    "\n",
    "TP_train, TN_train, FP_train, FN_train = confusion_matrix(y_train, y_train_pred)\n",
    "sensitivity_train, specificity_train = sensitivity_specificity(TP_train, TN_train, FP_train, FN_train)\n",
    "\n",
    "TP_test, TN_test, FP_test, FN_test = confusion_matrix(y_test, y_test_pred)\n",
    "sensitivity_test, specificity_test = sensitivity_specificity(TP_test, TN_test, FP_test, FN_test)\n",
    "\n",
    "print(\"Training Confusion Matrix:\")\n",
    "print(np.array([[TN_train, FP_train], [FN_train, TP_train]]))\n",
    "print(\"Training Sensitivity:\", sensitivity_train)\n",
    "print(\"Training Specificity:\", specificity_train)\n",
    "\n",
    "print(\"\\nTesting Confusion Matrix:\")\n",
    "print(np.array([[TN_test, FP_test], [FN_test, TP_test]]))\n",
    "print(\"Testing Sensitivity:\", sensitivity_test)\n",
    "print(\"Testing Specificity:\", specificity_test)\n",
    "\n",
    "# Step 8: Store training and testing accuracy for each iteration\n",
    "training_accuracy = np.mean(y_train_pred == y_train)\n",
    "testing_accuracy = np.mean(y_test_pred == y_test)\n",
    "print(\"\\nTraining Accuracy:\", training_accuracy)\n",
    "print(\"Testing Accuracy:\", testing_accuracy)\n",
    "\n",
    "# Step 9: Plot training and testing accuracy vs. iteration number\n",
    "plt.plot(cost_history)\n",
    "plt.xlabel('Iteration')\n",
    "plt.ylabel('Cost')\n",
    "plt.title('Cost vs. Iteration')\n"
   ]
  },
  {
   "cell_type": "code",
   "execution_count": null,
   "metadata": {},
   "outputs": [],
   "source": []
  }
 ],
 "metadata": {
  "kernelspec": {
   "display_name": "env",
   "language": "python",
   "name": "python3"
  },
  "language_info": {
   "codemirror_mode": {
    "name": "ipython",
    "version": 3
   },
   "file_extension": ".py",
   "mimetype": "text/x-python",
   "name": "python",
   "nbconvert_exporter": "python",
   "pygments_lexer": "ipython3",
   "version": "3.9.7"
  }
 },
 "nbformat": 4,
 "nbformat_minor": 2
}
