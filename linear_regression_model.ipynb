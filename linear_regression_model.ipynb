{
 "cells": [
  {
   "cell_type": "code",
   "execution_count": null,
   "metadata": {},
   "outputs": [],
   "source": [
    "import numpy as np\n",
    "\n",
    "class LinearRegressionGD:\n",
    "    def __init__(self, learning_rate=0.01, n_iterations=1000):\n",
    "        self.learning_rate = learning_rate\n",
    "        self.n_iterations = n_iterations\n",
    "        self.weights = None\n",
    "        self.bias = None\n",
    "        \n",
    "    def fit(self, X_train, y_train):\n",
    "        # Initialize weights and bias\n",
    "        self.weights = np.zeros(X_train.shape[1])\n",
    "        self.bias = 0\n",
    "        \n",
    "        # Perform gradient descent\n",
    "        for _ in range(self.n_iterations):\n",
    "            y_pred = np.dot(X_train, self.weights) + self.bias\n",
    "            error = y_pred - y_train\n",
    "            gradient_weights = (1 / len(X_train)) * np.dot(X_train.T, error)\n",
    "            gradient_bias = (1 / len(X_train)) * np.sum(error)\n",
    "            self.weights -= self.learning_rate * gradient_weights\n",
    "            self.bias -= self.learning_rate * gradient_bias\n",
    "            \n",
    "    def predict(self, X_test):\n",
    "        return np.dot(X_test, self.weights) + self.bias\n",
    "    \n",
    "    def mse(self, X_test, y_test):\n",
    "        y_pred = self.predict(X_test)\n",
    "        mse = np.mean((y_pred - y_test) ** 2)\n",
    "        return mse\n",
    "    \n",
    "    def r2_score(self, X_test, y_test):\n",
    "        y_pred = self.predict(X_test)\n",
    "        mean_y = np.mean(y_test)\n",
    "        ss_total = np.sum((y_test - mean_y) ** 2)\n",
    "        ss_residual = np.sum((y_test - y_pred) ** 2)\n",
    "        r2 = 1 - (ss_residual / ss_total)\n",
    "        return r2\n"
   ]
  }
 ],
 "metadata": {
  "language_info": {
   "name": "python"
  }
 },
 "nbformat": 4,
 "nbformat_minor": 2
}
