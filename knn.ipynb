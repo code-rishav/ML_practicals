{
 "cells": [
  {
   "cell_type": "code",
   "execution_count": 1,
   "metadata": {},
   "outputs": [],
   "source": [
    "import pandas as pd\n",
    "import numpy as np\n",
    "import seaborn as sns\n"
   ]
  },
  {
   "cell_type": "code",
   "execution_count": 2,
   "metadata": {},
   "outputs": [
    {
     "data": {
      "text/html": [
       "<div>\n",
       "<style scoped>\n",
       "    .dataframe tbody tr th:only-of-type {\n",
       "        vertical-align: middle;\n",
       "    }\n",
       "\n",
       "    .dataframe tbody tr th {\n",
       "        vertical-align: top;\n",
       "    }\n",
       "\n",
       "    .dataframe thead th {\n",
       "        text-align: right;\n",
       "    }\n",
       "</style>\n",
       "<table border=\"1\" class=\"dataframe\">\n",
       "  <thead>\n",
       "    <tr style=\"text-align: right;\">\n",
       "      <th></th>\n",
       "      <th>sepal_length</th>\n",
       "      <th>sepal_width</th>\n",
       "      <th>petal_length</th>\n",
       "      <th>petal_width</th>\n",
       "      <th>species</th>\n",
       "    </tr>\n",
       "  </thead>\n",
       "  <tbody>\n",
       "    <tr>\n",
       "      <th>0</th>\n",
       "      <td>5.1</td>\n",
       "      <td>3.5</td>\n",
       "      <td>1.4</td>\n",
       "      <td>0.2</td>\n",
       "      <td>setosa</td>\n",
       "    </tr>\n",
       "    <tr>\n",
       "      <th>1</th>\n",
       "      <td>4.9</td>\n",
       "      <td>3.0</td>\n",
       "      <td>1.4</td>\n",
       "      <td>0.2</td>\n",
       "      <td>setosa</td>\n",
       "    </tr>\n",
       "    <tr>\n",
       "      <th>2</th>\n",
       "      <td>4.7</td>\n",
       "      <td>3.2</td>\n",
       "      <td>1.3</td>\n",
       "      <td>0.2</td>\n",
       "      <td>setosa</td>\n",
       "    </tr>\n",
       "    <tr>\n",
       "      <th>3</th>\n",
       "      <td>4.6</td>\n",
       "      <td>3.1</td>\n",
       "      <td>1.5</td>\n",
       "      <td>0.2</td>\n",
       "      <td>setosa</td>\n",
       "    </tr>\n",
       "    <tr>\n",
       "      <th>4</th>\n",
       "      <td>5.0</td>\n",
       "      <td>3.6</td>\n",
       "      <td>1.4</td>\n",
       "      <td>0.2</td>\n",
       "      <td>setosa</td>\n",
       "    </tr>\n",
       "  </tbody>\n",
       "</table>\n",
       "</div>"
      ],
      "text/plain": [
       "   sepal_length  sepal_width  petal_length  petal_width species\n",
       "0           5.1          3.5           1.4          0.2  setosa\n",
       "1           4.9          3.0           1.4          0.2  setosa\n",
       "2           4.7          3.2           1.3          0.2  setosa\n",
       "3           4.6          3.1           1.5          0.2  setosa\n",
       "4           5.0          3.6           1.4          0.2  setosa"
      ]
     },
     "execution_count": 2,
     "metadata": {},
     "output_type": "execute_result"
    }
   ],
   "source": [
    "df = sns.load_dataset('iris')\n",
    "df.head()"
   ]
  },
  {
   "cell_type": "code",
   "execution_count": 3,
   "metadata": {},
   "outputs": [],
   "source": [
    "X = df.drop(['species'],axis=1)\n",
    "Y = df['species']"
   ]
  },
  {
   "cell_type": "code",
   "execution_count": 6,
   "metadata": {},
   "outputs": [
    {
     "name": "stdout",
     "output_type": "stream",
     "text": [
      "Size of training dataset: (105, 4)\n",
      "Size of testing dataset: (22, 4)\n",
      "Size of validating dataset: (23, 4)\n"
     ]
    }
   ],
   "source": [
    "from sklearn.model_selection import train_test_split\n",
    "X_train,X_test,Y_train,Y_test = train_test_split(X,Y,test_size=0.3,random_state=42)\n",
    "X_test,X_val,Y_test,Y_val = train_test_split(X_test,Y_test,random_state=42,test_size=0.5)\n",
    "print(\"Size of training dataset:\",X_train.shape)\n",
    "print(\"Size of testing dataset:\",X_test.shape)\n",
    "print(\"Size of validating dataset:\",X_val.shape)"
   ]
  },
  {
   "cell_type": "code",
   "execution_count": 9,
   "metadata": {},
   "outputs": [
    {
     "name": "stdout",
     "output_type": "stream",
     "text": [
      "Best parameter for k: {'n_neighbors': 1}\n",
      "Best accuracy score for K 0.9523809523809523\n"
     ]
    }
   ],
   "source": [
    "from sklearn.neighbors import KNeighborsClassifier\n",
    "from sklearn.model_selection import GridSearchCV\n",
    "knn = KNeighborsClassifier()\n",
    "parameters = {'n_neighbors':[1,2,3,4,5,6,7,8]}\n",
    "clf = GridSearchCV(knn,parameters,scoring='accuracy')\n",
    "clf.fit(X_train,Y_train)\n",
    "print(\"Best parameter for k:\",clf.best_params_)\n",
    "print(\"Best accuracy score for K\",clf.best_score_)\n",
    "best_model = clf.best_estimator_\n",
    "\n"
   ]
  },
  {
   "cell_type": "code",
   "execution_count": 11,
   "metadata": {},
   "outputs": [
    {
     "name": "stdout",
     "output_type": "stream",
     "text": [
      "Accuracy score for training data:  1.0\n",
      "Confusion matrix for training data\n",
      "\n",
      " [[31  0  0]\n",
      " [ 0 37  0]\n",
      " [ 0  0 37]]\n",
      "Accuracy score for testing data:  1.0\n",
      "Confusion matrix for testing data\n",
      "\n",
      " [[13  0  0]\n",
      " [ 0  3  0]\n",
      " [ 0  0  6]]\n",
      "Accuracy score for validation data:  1.0\n",
      "Confusion matrix for validation data\n",
      "\n",
      " [[ 6  0  0]\n",
      " [ 0 10  0]\n",
      " [ 0  0  7]]\n"
     ]
    }
   ],
   "source": [
    "from sklearn.metrics import accuracy_score,confusion_matrix\n",
    "y_pred_train = best_model.predict(X_train)\n",
    "acc_train = accuracy_score(Y_train,y_pred_train)\n",
    "cm_train = confusion_matrix(Y_train,y_pred_train)\n",
    "print(\"Accuracy score for training data: \",acc_train)\n",
    "print(\"Confusion matrix for training data\\n\\n\",cm_train)\n",
    "\n",
    "y_pred_test = best_model.predict(X_test)\n",
    "acc_test = accuracy_score(Y_test,y_pred_test)\n",
    "cm_test = confusion_matrix(Y_test,y_pred_test)\n",
    "print(\"Accuracy score for testing data: \",acc_test)\n",
    "print(\"Confusion matrix for testing data\\n\\n\",cm_test)\n",
    "\n",
    "y_pred_val = best_model.predict(X_val)\n",
    "acc_val = accuracy_score(Y_val,y_pred_val)\n",
    "cm_val = confusion_matrix(Y_val,y_pred_val)\n",
    "print(\"Accuracy score for validation data: \",acc_val)\n",
    "print(\"Confusion matrix for validation data\\n\\n\",cm_val)\n"
   ]
  },
  {
   "cell_type": "code",
   "execution_count": null,
   "metadata": {},
   "outputs": [],
   "source": []
  }
 ],
 "metadata": {
  "kernelspec": {
   "display_name": "env",
   "language": "python",
   "name": "python3"
  },
  "language_info": {
   "codemirror_mode": {
    "name": "ipython",
    "version": 3
   },
   "file_extension": ".py",
   "mimetype": "text/x-python",
   "name": "python",
   "nbconvert_exporter": "python",
   "pygments_lexer": "ipython3",
   "version": "3.9.7"
  }
 },
 "nbformat": 4,
 "nbformat_minor": 2
}
