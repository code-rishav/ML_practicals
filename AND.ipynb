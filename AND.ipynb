{
 "cells": [
  {
   "cell_type": "code",
   "execution_count": 1,
   "metadata": {},
   "outputs": [
    {
     "name": "stdout",
     "output_type": "stream",
     "text": [
      "Test Results:\n",
      "Input: [0, 0, 0], Predicted Output: 0\n",
      "Input: [0, 0, 1], Predicted Output: 0\n",
      "Input: [0, 1, 0], Predicted Output: 0\n",
      "Input: [0, 1, 1], Predicted Output: 0\n",
      "Input: [1, 0, 0], Predicted Output: 0\n",
      "Input: [1, 0, 1], Predicted Output: 0\n",
      "Input: [1, 1, 0], Predicted Output: 0\n",
      "Input: [1, 1, 1], Predicted Output: 1\n"
     ]
    }
   ],
   "source": [
    "import numpy as np\n",
    "\n",
    "class Perceptron:\n",
    "    def __init__(self, input_size, learning_rate=0.1, epochs=100):\n",
    "        self.weights = np.zeros(input_size + 1)\n",
    "        self.learning_rate = learning_rate\n",
    "        self.epochs = epochs\n",
    "\n",
    "    def activation_function(self, x):\n",
    "        return 1 if x >= 0 else 0\n",
    "\n",
    "    def predict(self, x):\n",
    "        x = np.insert(x, 0, 1)\n",
    "        z = np.dot(self.weights, x)\n",
    "        return self.activation_function(z)\n",
    "\n",
    "    def train(self, X, y):\n",
    "        for _ in range(self.epochs):\n",
    "            for i in range(len(y)):\n",
    "                prediction = self.predict(X[i])\n",
    "                error = y[i] - prediction\n",
    "                self.weights += self.learning_rate * error * np.insert(X[i], 0, 1)\n",
    "\n",
    "# Define the training data\n",
    "X = np.array([[0, 0, 0],\n",
    "              [0, 0, 1],\n",
    "              [0, 1, 0],\n",
    "              [0, 1, 1],\n",
    "              [1, 0, 0],\n",
    "              [1, 0, 1],\n",
    "              [1, 1, 0],\n",
    "              [1, 1, 1]])\n",
    "\n",
    "y = np.array([0, 0, 0, 0, 0, 0, 0, 1])  # AND truth table\n",
    "\n",
    "# Create and train the perceptron\n",
    "perceptron = Perceptron(input_size=3)\n",
    "perceptron.train(X, y)\n",
    "\n",
    "# Test the trained perceptron\n",
    "test_cases = [[0, 0, 0], [0, 0, 1], [0, 1, 0], [0, 1, 1], \n",
    "              [1, 0, 0], [1, 0, 1], [1, 1, 0], [1, 1, 1]]\n",
    "\n",
    "print(\"Test Results:\")\n",
    "for test_case in test_cases:\n",
    "    prediction = perceptron.predict(test_case)\n",
    "    print(f\"Input: {test_case}, Predicted Output: {prediction}\")\n"
   ]
  },
  {
   "cell_type": "code",
   "execution_count": null,
   "metadata": {},
   "outputs": [],
   "source": []
  }
 ],
 "metadata": {
  "kernelspec": {
   "display_name": "env",
   "language": "python",
   "name": "python3"
  },
  "language_info": {
   "codemirror_mode": {
    "name": "ipython",
    "version": 3
   },
   "file_extension": ".py",
   "mimetype": "text/x-python",
   "name": "python",
   "nbconvert_exporter": "python",
   "pygments_lexer": "ipython3",
   "version": "3.9.7"
  }
 },
 "nbformat": 4,
 "nbformat_minor": 2
}
